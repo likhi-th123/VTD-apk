{
 "cells": [
  {
   "cell_type": "code",
   "execution_count": 1,
   "metadata": {},
   "outputs": [],
   "source": [
    "import pandas as pd \n",
    "import os \n",
    "from skimage.transform import resize \n",
    "from skimage.io import imread \n",
    "import numpy as np \n",
    "import matplotlib.pyplot as plt \n",
    "from sklearn import svm \n",
    "from sklearn.model_selection import GridSearchCV \n",
    "from sklearn.model_selection import train_test_split \n",
    "from sklearn.metrics import accuracy_score \n",
    "from sklearn.metrics import classification_report\n"
   ]
  },
  {
   "cell_type": "code",
   "execution_count": 2,
   "metadata": {},
   "outputs": [
    {
     "name": "stdout",
     "output_type": "stream",
     "text": [
      "Acral Lentiginous Melanoma\n",
      "Beaus Line\n",
      "Blue Finger\n",
      "Clubbing\n",
      "Koilonychia\n",
      "Lindsay-s Nail\n",
      "lip_and_tongue\n",
      "Muehrckes Lines\n",
      "Onychogryphosis\n",
      "Pitting\n",
      "Terry-s Nail\n"
     ]
    }
   ],
   "source": [
    "data=r\"D:\\VAMSI\\CSE_PROJECTS\\Aishwarya\\vitamin-deficiency-detection-master\\Backend\\dataset\\new_train\"\n",
    "import os\n",
    "for file in os.listdir(data):\n",
    "    print(file)"
   ]
  },
  {
   "cell_type": "code",
   "execution_count": 5,
   "metadata": {},
   "outputs": [
    {
     "name": "stdout",
     "output_type": "stream",
     "text": [
      "loading... category : Acral Lentiginous Melanoma\n",
      "loaded category:Acral Lentiginous Melanoma successfully\n",
      "loading... category : Beaus Line\n",
      "loaded category:Beaus Line successfully\n",
      "loading... category : Blue Finger\n",
      "loaded category:Blue Finger successfully\n",
      "loading... category : Clubbing\n",
      "loaded category:Clubbing successfully\n",
      "loading... category : Koilonychia\n",
      "loaded category:Koilonychia successfully\n",
      "loading... category : Lindsay-s Nail\n",
      "loaded category:Lindsay-s Nail successfully\n",
      "loading... category : lip_and_tongue\n"
     ]
    },
    {
     "name": "stderr",
     "output_type": "stream",
     "text": [
      "c:\\Users\\0258\\.conda\\envs\\deepfake\\lib\\site-packages\\PIL\\TiffImagePlugin.py:819: UserWarning: Corrupt EXIF data.  Expecting to read 4 bytes but only got 0. \n",
      "  warnings.warn(str(msg))\n"
     ]
    },
    {
     "name": "stdout",
     "output_type": "stream",
     "text": [
      "loaded category:lip_and_tongue successfully\n",
      "loading... category : Muehrckes Lines\n",
      "loaded category:Muehrckes Lines successfully\n",
      "loading... category : Onychogryphosis\n",
      "loaded category:Onychogryphosis successfully\n",
      "loading... category : Pitting\n",
      "loaded category:Pitting successfully\n",
      "loading... category : Terry-s Nail\n",
      "loaded category:Terry-s Nail successfully\n"
     ]
    }
   ],
   "source": [
    "Categories=['Acral Lentiginous Melanoma','Beaus Line',\"Blue Finger\",\"Clubbing\",\"Koilonychia\",\n",
    "\t\t\t\"Lindsay-s Nail\",\"lip_and_tongue\",\"Muehrckes Lines\",\"Onychogryphosis\",\"Pitting\",\"Terry-s Nail\"] \n",
    "flat_data_arr=[] #input array \n",
    "target_arr=[] #output array \n",
    "datadir=r\"D:\\VAMSI\\CSE_PROJECTS\\Aishwarya\\vitamin-deficiency-detection-master\\Backend\\dataset\\new_train\"\n",
    "\n",
    "#path which contains all the categories of images \n",
    "for i in Categories: \n",
    "\t\n",
    "\tprint(f'loading... category : {i}') \n",
    "\tpath=os.path.join(datadir,i) \n",
    "\tfor img in os.listdir(path): \n",
    "\t\timg_array=imread(os.path.join(path,img)) \n",
    "\t\timg_resized=resize(img_array,(150,150,3)) \n",
    "\t\tflat_data_arr.append(img_resized.flatten()) \n",
    "\t\ttarget_arr.append(Categories.index(i)) \n",
    "\tprint(f'loaded category:{i} successfully') \n",
    "flat_data=np.array(flat_data_arr) \n",
    "target=np.array(target_arr)\n"
   ]
  },
  {
   "cell_type": "code",
   "execution_count": 6,
   "metadata": {},
   "outputs": [
    {
     "data": {
      "text/plain": [
       "(394, 67501)"
      ]
     },
     "execution_count": 6,
     "metadata": {},
     "output_type": "execute_result"
    }
   ],
   "source": [
    "#dataframe \n",
    "df=pd.DataFrame(flat_data) \n",
    "df['Target']=target \n",
    "df.shape\n"
   ]
  },
  {
   "cell_type": "code",
   "execution_count": 7,
   "metadata": {},
   "outputs": [],
   "source": [
    "#input data \n",
    "x=df.iloc[:,:-1] \n",
    "#output data \n",
    "y=df.iloc[:,-1]\n"
   ]
  },
  {
   "cell_type": "code",
   "execution_count": 9,
   "metadata": {},
   "outputs": [],
   "source": [
    "# Splitting the data into training and testing sets \n",
    "x_train,x_test,y_train,y_test=train_test_split(x,y,test_size=0.20, \n",
    "\t\t\t\t\t\t\t\t\t\t\trandom_state=77) \n"
   ]
  },
  {
   "cell_type": "code",
   "execution_count": 10,
   "metadata": {},
   "outputs": [],
   "source": [
    "# Defining the parameters grid for GridSearchCV \n",
    "param_grid={'C':[0.1,1,10,100], \n",
    "\t\t\t'gamma':[0.0001,0.001,0.1,1], \n",
    "\t\t\t'kernel':['rbf','poly']} \n",
    "\n",
    "# Creating a support vector classifier \n",
    "svc=svm.SVC(probability=True) \n",
    "\n",
    "# Creating a model using GridSearchCV with the parameters grid \n",
    "model=GridSearchCV(svc,param_grid)\n"
   ]
  },
  {
   "cell_type": "code",
   "execution_count": 11,
   "metadata": {},
   "outputs": [
    {
     "name": "stderr",
     "output_type": "stream",
     "text": [
      "c:\\Users\\0258\\.conda\\envs\\deepfake\\lib\\site-packages\\sklearn\\model_selection\\_split.py:668: UserWarning: The least populated class in y has only 1 members, which is less than n_splits=5.\n",
      "  % (min_groups, self.n_splits)), UserWarning)\n"
     ]
    },
    {
     "data": {
      "text/plain": [
       "GridSearchCV(estimator=SVC(probability=True),\n",
       "             param_grid={'C': [0.1, 1, 10, 100],\n",
       "                         'gamma': [0.0001, 0.001, 0.1, 1],\n",
       "                         'kernel': ['rbf', 'poly']})"
      ]
     },
     "execution_count": 11,
     "metadata": {},
     "output_type": "execute_result"
    }
   ],
   "source": [
    "# Training the model using the training data \n",
    "model.fit(x_train,y_train)\n"
   ]
  },
  {
   "cell_type": "code",
   "execution_count": 12,
   "metadata": {},
   "outputs": [
    {
     "name": "stdout",
     "output_type": "stream",
     "text": [
      "The model is 44.303797468354425% accurate\n"
     ]
    }
   ],
   "source": [
    "# Testing the model using the testing data \n",
    "y_pred = model.predict(x_test) \n",
    "\n",
    "# Calculating the accuracy of the model \n",
    "accuracy = accuracy_score(y_pred, y_test) \n",
    "\n",
    "# Print the accuracy of the model \n",
    "print(f\"The model is {accuracy*100}% accurate\")\n"
   ]
  },
  {
   "cell_type": "code",
   "execution_count": 27,
   "metadata": {},
   "outputs": [
    {
     "name": "stdout",
     "output_type": "stream",
     "text": [
      "Best parameters: {'C': 100, 'gamma': 0.0001, 'kernel': 'rbf'}\n"
     ]
    }
   ],
   "source": [
    "# Display the best parameters found during the grid search\n",
    "print(\"Best parameters:\", model.best_params_)"
   ]
  },
  {
   "cell_type": "code",
   "execution_count": null,
   "metadata": {},
   "outputs": [],
   "source": []
  },
  {
   "cell_type": "code",
   "execution_count": 29,
   "metadata": {},
   "outputs": [
    {
     "data": {
      "text/plain": [
       "['svm_model.pkl']"
      ]
     },
     "execution_count": 29,
     "metadata": {},
     "output_type": "execute_result"
    }
   ],
   "source": [
    "# Save the trained model\n",
    "import joblib\n",
    "joblib.dump(model, 'svm_model.pkl')"
   ]
  },
  {
   "cell_type": "code",
   "execution_count": 15,
   "metadata": {},
   "outputs": [
    {
     "name": "stdout",
     "output_type": "stream",
     "text": [
      "              precision    recall  f1-score   support\n",
      "\n",
      "           0       0.00      0.00      0.00        10\n",
      "           1       0.29      0.29      0.29         7\n",
      "           2       0.55      0.75      0.63         8\n",
      "           3       0.55      0.46      0.50        13\n",
      "           4       0.25      0.25      0.25         4\n",
      "           6       0.89      1.00      0.94         8\n",
      "           7       1.00      0.17      0.29         6\n",
      "           8       0.57      0.50      0.53         8\n",
      "           9       0.18      0.50      0.27         4\n",
      "          10       0.38      0.45      0.42        11\n",
      "\n",
      "    accuracy                           0.44        79\n",
      "   macro avg       0.47      0.44      0.41        79\n",
      "weighted avg       0.47      0.44      0.43        79\n",
      "\n"
     ]
    }
   ],
   "source": [
    "print(classification_report(y_test, y_pred))\n"
   ]
  },
  {
   "cell_type": "code",
   "execution_count": 22,
   "metadata": {},
   "outputs": [],
   "source": [
    "import h5py\n",
    "from sklearn import svm\n",
    "from sklearn.model_selection import GridSearchCV\n"
   ]
  },
  {
   "cell_type": "code",
   "execution_count": 24,
   "metadata": {},
   "outputs": [],
   "source": [
    "# Save the trained model in HDF5 format\n",
    "with h5py.File('svm_model.h5', 'w') as hdf:\n",
    "    for key in model.best_estimator_.__dict__:\n",
    "        if isinstance(model.best_estimator_.__dict__[key], str):\n",
    "            hdf.create_dataset(key, data=model.best_estimator_.__dict__[key])\n"
   ]
  },
  {
   "cell_type": "code",
   "execution_count": 26,
   "metadata": {},
   "outputs": [
    {
     "data": {
      "image/png": "[encoded data removed]",
      "text/plain": [
       "<Figure size 432x288 with 1 Axes>"
      ]
     },
     "metadata": {
      "needs_background": "light"
     },
     "output_type": "display_data"
    },
    {
     "name": "stdout",
     "output_type": "stream",
     "text": [
      "Acral Lentiginous Melanoma = 16.12953550635961%\n",
      "Beaus Line = 6.253186450328911%\n",
      "Blue Finger = 10.212776826875897%\n",
      "Clubbing = 13.89740259901313%\n",
      "Koilonychia = 23.884708192879774%\n",
      "Lindsay-s Nail = 0.8385228595346399%\n",
      "lip_and_tongue = 0.6904212167939373%\n",
      "Muehrckes Lines = 7.020743773048835%\n",
      "Onychogryphosis = 10.358347930987966%\n",
      "Pitting = 4.769157945459471%\n",
      "Terry-s Nail = 5.945196698717815%\n",
      "The predicted image is : Koilonychia\n"
     ]
    }
   ],
   "source": [
    "path=r'dataset\\new_train\\Koilonychia\\k104_png.rf.1cba9870b4201008494074f864ebf0e5.jpg'\n",
    "img=imread(path) \n",
    "plt.imshow(img) \n",
    "plt.show() \n",
    "img_resize=resize(img,(150,150,3)) \n",
    "l=[img_resize.flatten()] \n",
    "probability=model.predict_proba(l) \n",
    "for ind,val in enumerate(Categories): \n",
    "\tprint(f'{val} = {probability[0][ind]*100}%') \n",
    "print(\"The predicted image is : \"+Categories[model.predict(l)[0]])\n"
   ]
  },
  {
   "cell_type": "code",
   "execution_count": null,
   "metadata": {},
   "outputs": [],
   "source": []
  }
 ],
 "metadata": {
  "kernelspec": {
   "display_name": "deepfake",
   "language": "python",
   "name": "python3"
  },
  "language_info": {
   "codemirror_mode": {
    "name": "ipython",
    "version": 3
   },
   "file_extension": ".py",
   "mimetype": "text/x-python",
   "name": "python",
   "nbconvert_exporter": "python",
   "pygments_lexer": "ipython3",
   "version": "3.6.8"
  }
 },
 "nbformat": 4,
 "nbformat_minor": 2
}
